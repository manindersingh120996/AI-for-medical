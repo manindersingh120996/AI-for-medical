{
 "cells": [
  {
   "cell_type": "code",
   "execution_count": null,
   "id": "a5607954-2b5a-4680-a0cc-5a38d8c6a13e",
   "metadata": {},
   "outputs": [],
   "source": []
  }
 ],
 "metadata": {
  "kernelspec": {
   "display_name": "",
   "name": ""
  },
  "language_info": {
   "name": ""
  }
 },
 "nbformat": 4,
 "nbformat_minor": 5
}
